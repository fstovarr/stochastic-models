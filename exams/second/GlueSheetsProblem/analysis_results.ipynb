{
 "cells": [
  {
   "cell_type": "code",
   "execution_count": 1,
   "metadata": {},
   "outputs": [],
   "source": [
    "import matplotlib.pyplot as plt\n",
    "import numpy as np\n",
    "import pandas as pd\n",
    "\n",
    "__author__ = \"Fabio Steven Tovar Ramos\"\n",
    "__version__ = \"1.0\"\n",
    "__email__ = \"fstovarr@unal.edu.co\"\n",
    "__title__ = \"Chocolatina's album problem\""
   ]
  },
  {
   "cell_type": "markdown",
   "metadata": {},
   "source": [
    "How many sheets on average should an agent buy to fill its album?"
   ]
  },
  {
   "cell_type": "code",
   "execution_count": null,
   "metadata": {},
   "outputs": [],
   "source": []
  },
  {
   "cell_type": "code",
   "execution_count": 2,
   "metadata": {},
   "outputs": [
    {
     "ename": "NameError",
     "evalue": "name 'rg' is not defined",
     "output_type": "error",
     "traceback": [
      "\u001b[0;31m---------------------------------------------------------------------------\u001b[0m",
      "\u001b[0;31mNameError\u001b[0m                                 Traceback (most recent call last)",
      "\u001b[0;32m<ipython-input-2-41beee54b990>\u001b[0m in \u001b[0;36m<module>\u001b[0;34m\u001b[0m\n\u001b[0;32m----> 1\u001b[0;31m \u001b[0mr\u001b[0m \u001b[0;34m=\u001b[0m \u001b[0;34m[\u001b[0m\u001b[0mrg\u001b[0m\u001b[0;34m.\u001b[0m\u001b[0mget_int\u001b[0m\u001b[0;34m(\u001b[0m\u001b[0;34m)\u001b[0m \u001b[0;32mfor\u001b[0m \u001b[0mi\u001b[0m \u001b[0;32min\u001b[0m \u001b[0mrange\u001b[0m\u001b[0;34m(\u001b[0m\u001b[0;36m20000\u001b[0m\u001b[0;34m)\u001b[0m\u001b[0;34m]\u001b[0m\u001b[0;34m\u001b[0m\u001b[0;34m\u001b[0m\u001b[0m\n\u001b[0m\u001b[1;32m      2\u001b[0m \u001b[0mplt\u001b[0m\u001b[0;34m.\u001b[0m\u001b[0mhist\u001b[0m\u001b[0;34m(\u001b[0m\u001b[0mr\u001b[0m\u001b[0;34m)\u001b[0m\u001b[0;34m\u001b[0m\u001b[0;34m\u001b[0m\u001b[0m\n\u001b[1;32m      3\u001b[0m \u001b[0mprint\u001b[0m\u001b[0;34m(\u001b[0m\u001b[0mmin\u001b[0m\u001b[0;34m(\u001b[0m\u001b[0mr\u001b[0m\u001b[0;34m)\u001b[0m\u001b[0;34m)\u001b[0m\u001b[0;34m\u001b[0m\u001b[0;34m\u001b[0m\u001b[0m\n\u001b[1;32m      4\u001b[0m \u001b[0mprint\u001b[0m\u001b[0;34m(\u001b[0m\u001b[0mmax\u001b[0m\u001b[0;34m(\u001b[0m\u001b[0mr\u001b[0m\u001b[0;34m)\u001b[0m\u001b[0;34m)\u001b[0m\u001b[0;34m\u001b[0m\u001b[0;34m\u001b[0m\u001b[0m\n",
      "\u001b[0;32m<ipython-input-2-41beee54b990>\u001b[0m in \u001b[0;36m<listcomp>\u001b[0;34m(.0)\u001b[0m\n\u001b[0;32m----> 1\u001b[0;31m \u001b[0mr\u001b[0m \u001b[0;34m=\u001b[0m \u001b[0;34m[\u001b[0m\u001b[0mrg\u001b[0m\u001b[0;34m.\u001b[0m\u001b[0mget_int\u001b[0m\u001b[0;34m(\u001b[0m\u001b[0;34m)\u001b[0m \u001b[0;32mfor\u001b[0m \u001b[0mi\u001b[0m \u001b[0;32min\u001b[0m \u001b[0mrange\u001b[0m\u001b[0;34m(\u001b[0m\u001b[0;36m20000\u001b[0m\u001b[0;34m)\u001b[0m\u001b[0;34m]\u001b[0m\u001b[0;34m\u001b[0m\u001b[0;34m\u001b[0m\u001b[0m\n\u001b[0m\u001b[1;32m      2\u001b[0m \u001b[0mplt\u001b[0m\u001b[0;34m.\u001b[0m\u001b[0mhist\u001b[0m\u001b[0;34m(\u001b[0m\u001b[0mr\u001b[0m\u001b[0;34m)\u001b[0m\u001b[0;34m\u001b[0m\u001b[0;34m\u001b[0m\u001b[0m\n\u001b[1;32m      3\u001b[0m \u001b[0mprint\u001b[0m\u001b[0;34m(\u001b[0m\u001b[0mmin\u001b[0m\u001b[0;34m(\u001b[0m\u001b[0mr\u001b[0m\u001b[0;34m)\u001b[0m\u001b[0;34m)\u001b[0m\u001b[0;34m\u001b[0m\u001b[0;34m\u001b[0m\u001b[0m\n\u001b[1;32m      4\u001b[0m \u001b[0mprint\u001b[0m\u001b[0;34m(\u001b[0m\u001b[0mmax\u001b[0m\u001b[0;34m(\u001b[0m\u001b[0mr\u001b[0m\u001b[0;34m)\u001b[0m\u001b[0;34m)\u001b[0m\u001b[0;34m\u001b[0m\u001b[0;34m\u001b[0m\u001b[0m\n",
      "\u001b[0;31mNameError\u001b[0m: name 'rg' is not defined"
     ]
    }
   ],
   "source": [
    "r = [rg.get_int() for i in range(20000)]\n",
    "plt.hist(r)\n",
    "print(min(r))\n",
    "print(max(r))"
   ]
  },
  {
   "cell_type": "code",
   "execution_count": null,
   "metadata": {},
   "outputs": [],
   "source": [
    "rg = RandomGenerator('exponential', 0, 699)\n",
    "n = [rg.get_int() for i in range(2000)]\n",
    "plt.hist(n)\n",
    "print(max(n))\n",
    "print(min(n))"
   ]
  },
  {
   "cell_type": "markdown",
   "metadata": {},
   "source": [
    "## Data analysis"
   ]
  },
  {
   "cell_type": "code",
   "execution_count": null,
   "metadata": {},
   "outputs": [],
   "source": [
    "df = pd.read_csv(\"data/data.csv\")\n",
    "df.head()"
   ]
  },
  {
   "cell_type": "code",
   "execution_count": null,
   "metadata": {},
   "outputs": [],
   "source": [
    "exp = df[df['distribution'] == 'exponential']\n",
    "uni = df[df['distribution'] == 'uniform']"
   ]
  },
  {
   "cell_type": "code",
   "execution_count": null,
   "metadata": {},
   "outputs": [],
   "source": [
    "exp.describe()"
   ]
  },
  {
   "cell_type": "code",
   "execution_count": null,
   "metadata": {},
   "outputs": [],
   "source": [
    "uni.describe()"
   ]
  },
  {
   "cell_type": "code",
   "execution_count": null,
   "metadata": {},
   "outputs": [],
   "source": [
    "plt.scatter(exp['agents'], exp['time'])\n",
    "plt.scatter(uni['agents'], uni['time'])"
   ]
  },
  {
   "cell_type": "code",
   "execution_count": null,
   "metadata": {},
   "outputs": [],
   "source": [
    "agents = df['agents'].unique()\n",
    "distributions = df['distribution'].unique()\n",
    "sheets = df['sheets'].unique()"
   ]
  },
  {
   "cell_type": "code",
   "execution_count": null,
   "metadata": {},
   "outputs": [],
   "source": [
    "agg = df[[\"time\", \"surplus\", \"agents\", \"distribution\", \"sheets\"]].groupby(['agents', 'distribution', 'sheets'])\n",
    "final = agg.mean()\n",
    "final"
   ]
  },
  {
   "cell_type": "code",
   "execution_count": 225,
   "metadata": {},
   "outputs": [
    {
     "name": "stdout",
     "output_type": "stream",
     "text": [
      "    sheet  distribution\n",
      "0       0           0.0\n",
      "1       1           0.1\n",
      "2       2           0.2\n",
      "3       3           0.3\n",
      "4       4           0.4\n",
      "5       5           0.5\n",
      "6       6           0.6\n",
      "7       7           0.7\n",
      "8       8           0.8\n",
      "9       9           0.9\n",
      "10     10           1.0\n"
     ]
    }
   ],
   "source": [
    "data = pd.read_csv('data/custom_distribution.csv')\n",
    "data.loc[-1] = (-1, 0)\n",
    "data = data.sort_values('sheet').reset_index()\n",
    "data.drop('index', axis=1, inplace=True)\n",
    "data['sheet'] = list(data.index)\n",
    "data['distribution'] = data['distribution'].cumsum()\n",
    "\n",
    "if (1 - data[\"distribution\"].iloc[-1]) > 1e-10:\n",
    "    raise Exception(\"The sum of probabilities must be 0\")\n",
    "random_args = [data]\n",
    "print(data)"
   ]
  },
  {
   "cell_type": "code",
   "execution_count": 226,
   "metadata": {},
   "outputs": [],
   "source": [
    "def __custom_random(data):\n",
    "    n = np.random.uniform()\n",
    "    low = 0\n",
    "    top = len(data) - 1\n",
    "    while top - low > 1:\n",
    "        middle = low + (top - low) // 2\n",
    "        if n > data.loc[middle]['distribution']:\n",
    "            low = middle\n",
    "        elif n < data.loc[middle]['distribution']:\n",
    "            top = middle\n",
    "    return data.loc[low + (top - low) // 2][\"sheet\"]"
   ]
  },
  {
   "cell_type": "code",
   "execution_count": 227,
   "metadata": {},
   "outputs": [],
   "source": [
    "rg = __custom_random"
   ]
  },
  {
   "cell_type": "code",
   "execution_count": 228,
   "metadata": {},
   "outputs": [
    {
     "data": {
      "text/plain": [
       "2.0"
      ]
     },
     "execution_count": 228,
     "metadata": {},
     "output_type": "execute_result"
    }
   ],
   "source": [
    "rg(*random_args)"
   ]
  },
  {
   "cell_type": "code",
   "execution_count": 229,
   "metadata": {},
   "outputs": [
    {
     "data": {
      "text/plain": [
       "(array([21., 16., 13., 23., 20., 29., 25., 17., 20., 16.]),\n",
       " array([0. , 0.9, 1.8, 2.7, 3.6, 4.5, 5.4, 6.3, 7.2, 8.1, 9. ]),\n",
       " <a list of 10 Patch objects>)"
      ]
     },
     "execution_count": 229,
     "metadata": {},
     "output_type": "execute_result"
    },
    {
     "data": {
      "image/png": "[encoded data removed]",
      "text/plain": [
       "<Figure size 432x288 with 1 Axes>"
      ]
     },
     "metadata": {
      "needs_background": "light"
     },
     "output_type": "display_data"
    }
   ],
   "source": [
    "a = [rg(*random_args) for i in range(200)]\n",
    "plt.hist(a)\n",
    "#print(a)"
   ]
  },
  {
   "cell_type": "code",
   "execution_count": 66,
   "metadata": {},
   "outputs": [],
   "source": [
    "test = [i/10 + 0.05  for i in range(10)]"
   ]
  },
  {
   "cell_type": "code",
   "execution_count": 221,
   "metadata": {},
   "outputs": [],
   "source": [
    "def __custom_random(data, test, pos):\n",
    "    n = test[pos]\n",
    "    low = 0\n",
    "    top = len(data) - 1\n",
    "    print(n)\n",
    "    middle = low + (top - low) // 2\n",
    "    while top - low > 1:\n",
    "        middle = low + (top - low) // 2\n",
    "        print(low, middle, top)\n",
    "        if n > data.loc[middle]['distribution']:\n",
    "            low = middle\n",
    "        elif n < data.loc[middle]['distribution']:\n",
    "            top = middle\n",
    "        else:\n",
    "            break\n",
    "    return data.loc[low + (top - low) // 2][\"sheet\"]"
   ]
  },
  {
   "cell_type": "code",
   "execution_count": 223,
   "metadata": {},
   "outputs": [
    {
     "name": "stdout",
     "output_type": "stream",
     "text": [
      "    sheet  distribution\n",
      "0       0           0.0\n",
      "1       1           0.1\n",
      "2       2           0.2\n",
      "3       3           0.3\n",
      "4       4           0.4\n",
      "5       5           0.5\n",
      "6       6           0.6\n",
      "7       7           0.7\n",
      "8       8           0.8\n",
      "9       9           0.9\n",
      "10     10           1.0\n",
      "0.05\n",
      "0 5 10\n",
      "0 2 5\n",
      "0 1 2\n"
     ]
    },
    {
     "data": {
      "text/plain": [
       "0.0"
      ]
     },
     "execution_count": 223,
     "metadata": {},
     "output_type": "execute_result"
    }
   ],
   "source": [
    "print(data)\n",
    "__custom_random(data, test, 0)"
   ]
  },
  {
   "cell_type": "code",
   "execution_count": 224,
   "metadata": {},
   "outputs": [
    {
     "name": "stdout",
     "output_type": "stream",
     "text": [
      "0.05\n",
      "0 5 10\n",
      "0 2 5\n",
      "0 1 2\n",
      "0.15000000000000002\n",
      "0 5 10\n",
      "0 2 5\n",
      "0 1 2\n",
      "0.25\n",
      "0 5 10\n",
      "0 2 5\n",
      "2 3 5\n",
      "0.35\n",
      "0 5 10\n",
      "0 2 5\n",
      "2 3 5\n",
      "3 4 5\n",
      "0.45\n",
      "0 5 10\n",
      "0 2 5\n",
      "2 3 5\n",
      "3 4 5\n",
      "0.55\n",
      "0 5 10\n",
      "5 7 10\n",
      "5 6 7\n",
      "0.65\n",
      "0 5 10\n",
      "5 7 10\n",
      "5 6 7\n",
      "0.75\n",
      "0 5 10\n",
      "5 7 10\n",
      "7 8 10\n",
      "0.8500000000000001\n",
      "0 5 10\n",
      "5 7 10\n",
      "7 8 10\n",
      "8 9 10\n",
      "0.9500000000000001\n",
      "0 5 10\n",
      "5 7 10\n",
      "7 8 10\n",
      "8 9 10\n",
      "[0.0, 1.0, 2.0, 3.0, 4.0, 5.0, 6.0, 7.0, 8.0, 9.0]\n"
     ]
    },
    {
     "data": {
      "image/png": "[encoded data removed]",
      "text/plain": [
       "<Figure size 432x288 with 1 Axes>"
      ]
     },
     "metadata": {
      "needs_background": "light"
     },
     "output_type": "display_data"
    }
   ],
   "source": [
    "a = [__custom_random(data, test, i) for i in range(10)]\n",
    "plt.hist(a)\n",
    "print(a)"
   ]
  }
 ],
 "metadata": {
  "kernelspec": {
   "display_name": "Python 3",
   "language": "python",
   "name": "python3"
  },
  "language_info": {
   "codemirror_mode": {
    "name": "ipython",
    "version": 3
   },
   "file_extension": ".py",
   "mimetype": "text/x-python",
   "name": "python",
   "nbconvert_exporter": "python",
   "pygments_lexer": "ipython3",
   "version": "3.7.3"
  }
 },
 "nbformat": 4,
 "nbformat_minor": 2
}
