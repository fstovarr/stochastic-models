{
 "cells": [
  {
   "cell_type": "code",
   "execution_count": 1,
   "metadata": {},
   "outputs": [],
   "source": [
    "from simulator import Simulator\n",
    "from agent import Agent\n",
    "from environment import Environment\n",
    "from agent_helper import AgentHelper\n",
    "\n",
    "sheets = 5\n",
    "agents = AgentHelper.create_agents(4, sheets)\n",
    "env = Environment(album_sheets=sheets)\n",
    "simulator = Simulator(env, agents, time=None)"
   ]
  },
  {
   "cell_type": "code",
   "execution_count": 2,
   "metadata": {},
   "outputs": [
    {
     "name": "stdout",
     "output_type": "stream",
     "text": [
      "[(0, False), (2, False), (3, False), (4, False)]\n",
      "[(1, 1)]\n"
     ]
    }
   ],
   "source": [
    "a = Agent(album_sheets=5)\n",
    "a.save_sheet(1)\n",
    "a.save_sheet(1)\n",
    "print(a.get_missing_sheets())\n",
    "print(a.get_surplus())"
   ]
  },
  {
   "cell_type": "code",
   "execution_count": 3,
   "metadata": {},
   "outputs": [
    {
     "name": "stdout",
     "output_type": "stream",
     "text": [
      "[(0, False), (1, False), (3, False), (4, False)]\n",
      "[(2, 1)]\n"
     ]
    }
   ],
   "source": [
    "b = Agent(album_sheets=5)\n",
    "b.save_sheet(2)\n",
    "b.save_sheet(2)\n",
    "print(b.get_missing_sheets())\n",
    "print(b.get_surplus())"
   ]
  },
  {
   "cell_type": "code",
   "execution_count": 4,
   "metadata": {},
   "outputs": [],
   "source": [
    "a.add_friend(b)\n",
    "b.add_friend(a)"
   ]
  },
  {
   "cell_type": "code",
   "execution_count": 5,
   "metadata": {},
   "outputs": [],
   "source": [
    "a.try_exchanging()"
   ]
  },
  {
   "cell_type": "code",
   "execution_count": 6,
   "metadata": {},
   "outputs": [
    {
     "name": "stdout",
     "output_type": "stream",
     "text": [
      "[(0, False), (3, False), (4, False)]\n",
      "[]\n"
     ]
    }
   ],
   "source": [
    "print(a.get_missing_sheets())\n",
    "print(a.get_surplus())"
   ]
  },
  {
   "cell_type": "code",
   "execution_count": 7,
   "metadata": {},
   "outputs": [
    {
     "name": "stdout",
     "output_type": "stream",
     "text": [
      "[(0, False), (3, False), (4, False)]\n",
      "[]\n"
     ]
    }
   ],
   "source": [
    "print(b.get_missing_sheets())\n",
    "print(b.get_surplus())"
   ]
  },
  {
   "cell_type": "code",
   "execution_count": 8,
   "metadata": {},
   "outputs": [
    {
     "name": "stdout",
     "output_type": "stream",
     "text": [
      "Simulation ended\n"
     ]
    }
   ],
   "source": [
    "sheets = 5\n",
    "agents = AgentHelper.create_agents(4, sheets)\n",
    "env = Environment(album_sheets=sheets)\n",
    "simulator = Simulator(env, agents, time=None)\n",
    "\n",
    "\n",
    "simulator.start()"
   ]
  }
 ],
 "metadata": {
  "kernelspec": {
   "display_name": "Python 3",
   "language": "python",
   "name": "python3"
  },
  "language_info": {
   "codemirror_mode": {
    "name": "ipython",
    "version": 3
   },
   "file_extension": ".py",
   "mimetype": "text/x-python",
   "name": "python",
   "nbconvert_exporter": "python",
   "pygments_lexer": "ipython3",
   "version": "3.7.3"
  }
 },
 "nbformat": 4,
 "nbformat_minor": 2
}
