{
 "cells": [
  {
   "cell_type": "code",
   "execution_count": 1,
   "metadata": {},
   "outputs": [],
   "source": [
    "from simulator import Simulator\n",
    "from agent import Agent\n",
    "from environment import Environment\n",
    "\n",
    "sheets = 5\n",
    "\n",
    "agents = [Agent(album_sheets=sheets, idx=i) for i in range(1, 4)]\n",
    "agents[0].add_friend(agents[1])\n",
    "agents[1].add_friend(agents[0])\n",
    "agents[1].add_friend(agents[2])\n",
    "agents[2].add_friend(agents[1])\n",
    "agents[0].add_friend(agents[2])\n",
    "agents[2].add_friend(agents[0])\n",
    "env = Environment(album_sheets=sheets)\n",
    "simulator = Simulator(env, agents, time=3)"
   ]
  },
  {
   "cell_type": "code",
   "execution_count": 2,
   "metadata": {},
   "outputs": [
    {
     "name": "stdout",
     "output_type": "stream",
     "text": [
      "[(0, False), (2, False), (3, False), (4, False)]\n",
      "[(1, 1)]\n"
     ]
    }
   ],
   "source": [
    "a = Agent(album_sheets=5)\n",
    "a.save_sheet(1)\n",
    "a.save_sheet(1)\n",
    "print(a.get_missing_sheets())\n",
    "print(a.get_surplus())"
   ]
  },
  {
   "cell_type": "code",
   "execution_count": 3,
   "metadata": {},
   "outputs": [
    {
     "name": "stdout",
     "output_type": "stream",
     "text": [
      "[(0, False), (1, False), (3, False), (4, False)]\n",
      "[(2, 1)]\n"
     ]
    }
   ],
   "source": [
    "b = Agent(album_sheets=5)\n",
    "b.save_sheet(2)\n",
    "b.save_sheet(2)\n",
    "print(b.get_missing_sheets())\n",
    "print(b.get_surplus())"
   ]
  },
  {
   "cell_type": "code",
   "execution_count": 4,
   "metadata": {},
   "outputs": [],
   "source": [
    "a.add_friend(b)\n",
    "b.add_friend(a)"
   ]
  },
  {
   "cell_type": "code",
   "execution_count": 5,
   "metadata": {},
   "outputs": [
    {
     "name": "stdout",
     "output_type": "stream",
     "text": [
      "JEJEJEJE\n",
      "[2]\n",
      "[1]\n",
      "\n",
      "EX >>>>>>>>> 2 | 1\n"
     ]
    }
   ],
   "source": [
    "a.try_exchanging()"
   ]
  },
  {
   "cell_type": "code",
   "execution_count": 8,
   "metadata": {},
   "outputs": [
    {
     "name": "stdout",
     "output_type": "stream",
     "text": [
      "[(0, False), (3, False), (4, False)]\n",
      "[]\n"
     ]
    }
   ],
   "source": [
    "print(a.get_missing_sheets())\n",
    "print(a.get_surplus())"
   ]
  },
  {
   "cell_type": "code",
   "execution_count": 7,
   "metadata": {},
   "outputs": [
    {
     "name": "stdout",
     "output_type": "stream",
     "text": [
      "[(0, False), (3, False), (4, False)]\n",
      "[]\n"
     ]
    }
   ],
   "source": [
    "print(b.get_missing_sheets())\n",
    "print(b.get_surplus())"
   ]
  },
  {
   "cell_type": "code",
   "execution_count": 6,
   "metadata": {},
   "outputs": [
    {
     "name": "stdout",
     "output_type": "stream",
     "text": [
      "Sheet 3\n",
      "Sheet 1\n",
      "Sheet 2\n",
      "EXCHANGING\n",
      "\n",
      "Album: >> \n",
      "State: \n",
      "0 -  | 1 -  | 2 -  | 3 x  | 4 - \n",
      "Surplus:\n",
      "0 0 | 1 0 | 2 0 | 3 0 | 4 0\n",
      "\n",
      "State:AgentState.LOOKING_FOR_SHEETS\n",
      "Album: >> \n",
      "State: \n",
      "0 -  | 1 x  | 2 -  | 3 -  | 4 - \n",
      "Surplus:\n",
      "0 0 | 1 0 | 2 0 | 3 0 | 4 0\n",
      "\n",
      "State:AgentState.LOOKING_FOR_SHEETS\n",
      "Album: >> \n",
      "State: \n",
      "0 -  | 1 -  | 2 x  | 3 -  | 4 - \n",
      "Surplus:\n",
      "0 0 | 1 0 | 2 0 | 3 0 | 4 0\n",
      "\n",
      "State:AgentState.LOOKING_FOR_SHEETS\n",
      "-------------------------\n",
      "\n",
      "Sheet 3\n",
      "Sheet 1\n",
      "Sheet 2\n",
      "EXCHANGING\n",
      "JEJEJEJE\n",
      "[1]\n",
      "[3]\n",
      "\n",
      "EX >>>>>>>>> 1 | 3\n",
      "\n",
      "EX >>>>>>>>>  | \n",
      "\n",
      "EX >>>>>>>>>  | \n",
      "\n",
      "Album: >> \n",
      "State: \n",
      "0 -  | 1 x  | 2 -  | 3 x  | 4 - \n",
      "Surplus:\n",
      "0 0 | 1 0 | 2 0 | 3 0 | 4 0\n",
      "\n",
      "State:AgentState.LOOKING_FOR_SHEETS\n",
      "Album: >> \n",
      "State: \n",
      "0 -  | 1 x  | 2 -  | 3 x  | 4 - \n",
      "Surplus:\n",
      "0 0 | 1 0 | 2 0 | 3 0 | 4 0\n",
      "\n",
      "State:AgentState.LOOKING_FOR_SHEETS\n",
      "Album: >> \n",
      "State: \n",
      "0 -  | 1 -  | 2 x  | 3 -  | 4 - \n",
      "Surplus:\n",
      "0 0 | 1 0 | 2 1 | 3 0 | 4 0\n",
      "\n",
      "State:AgentState.LOOKING_FOR_SHEETS\n",
      "-------------------------\n",
      "\n",
      "Sheet 3\n",
      "Sheet 1\n",
      "Sheet 2\n",
      "EXCHANGING\n",
      "JEJEJEJE\n",
      "[2]\n",
      "[3]\n",
      "\n",
      "EX >>>>>>>>> 2 | 3\n",
      "JEJEJEJE\n",
      "[2]\n",
      "[1]\n",
      "\n",
      "EX >>>>>>>>> 2 | 1\n",
      "\n",
      "EX >>>>>>>>>  | \n",
      "\n",
      "Album: >> \n",
      "State: \n",
      "0 -  | 1 x  | 2 x  | 3 x  | 4 - \n",
      "Surplus:\n",
      "0 0 | 1 0 | 2 0 | 3 0 | 4 0\n",
      "\n",
      "State:AgentState.LOOKING_FOR_SHEETS\n",
      "Album: >> \n",
      "State: \n",
      "0 -  | 1 x  | 2 x  | 3 x  | 4 - \n",
      "Surplus:\n",
      "0 0 | 1 0 | 2 0 | 3 0 | 4 0\n",
      "\n",
      "State:AgentState.LOOKING_FOR_SHEETS\n",
      "Album: >> \n",
      "State: \n",
      "0 -  | 1 x  | 2 x  | 3 x  | 4 - \n",
      "Surplus:\n",
      "0 0 | 1 0 | 2 0 | 3 0 | 4 0\n",
      "\n",
      "State:AgentState.LOOKING_FOR_SHEETS\n",
      "-------------------------\n",
      "\n"
     ]
    }
   ],
   "source": [
    "simulator.start()"
   ]
  }
 ],
 "metadata": {
  "kernelspec": {
   "display_name": "Python 3",
   "language": "python",
   "name": "python3"
  },
  "language_info": {
   "codemirror_mode": {
    "name": "ipython",
    "version": 3
   },
   "file_extension": ".py",
   "mimetype": "text/x-python",
   "name": "python",
   "nbconvert_exporter": "python",
   "pygments_lexer": "ipython3",
   "version": "3.7.3"
  }
 },
 "nbformat": 4,
 "nbformat_minor": 2
}
